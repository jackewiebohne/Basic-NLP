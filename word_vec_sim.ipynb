{
 "cells": [
  {
   "cell_type": "markdown",
   "metadata": {},
   "source": [
    "# local vector similarity measure across slices of data (e.g. word embeddings across time slices)\n",
    "\n",
    "for the algorithm and the mathematical formula see the paper: https://www.aclweb.org/anthology/D16-1229/\n",
    "Cultural Shift or Linguistic Drift? Comparing Two Computational Measures of Semantic Change\n",
    "William L. Hamilton, Jure Leskovec, Dan Jurafsky\n",
    "\n",
    "1. measure cosine-similarity for every word_j that is in the union of word_i's k neighbours at time t with word_i's k neighbours at time t+1. The result of this measure will be input into position j of the s vector. This will be vector s_i at time t.\n",
    "\n",
    "2. do the same except for t+1 and t+2 to get s_i at time t+1\n",
    "\n",
    "3. get cosine dist, i.e.: 1 - cosine similarity of vector s_i at time t and vector s_i at t+1"
   ]
  },
  {
   "cell_type": "code",
   "execution_count": 2,
   "metadata": {},
   "outputs": [],
   "source": [
    "import numpy as np"
   ]
  },
  {
   "cell_type": "code",
   "execution_count": 3,
   "metadata": {},
   "outputs": [],
   "source": [
    "def cosinesim(x,y):\n",
    "    '''cosine similarity'''\n",
    "    return x@y/(np.linalg.norm(x)*np.linalg.norm(y))"
   ]
  },
  {
   "cell_type": "code",
   "execution_count": 10,
   "metadata": {},
   "outputs": [],
   "source": [
    "def local_vec_similarity(word_i, neighbour_matrix_t1, neighbour_matrix_t2, k_neighbours=10):\n",
    "    '''\n",
    "    inputs:\n",
    "        - word_i: the word whose change in meaning over time \n",
    "        (or also geographical region, or however the data is sliced) we're trying to track\n",
    "        \n",
    "        - neighbour_matrix_t1: the matrix of the vertically stacked ordered sets of vectors\n",
    "        (from most to least cosine-similar) of word_i's k_neighbours at time t and at time t+1. \n",
    "        Its dimension is: 2*k_neighbours x embedding_size\n",
    "        \n",
    "        - neighbour_matrix_t2: same as above, except word_i's k_neighbours at time t+1 and time t+2\n",
    "        \n",
    "        - k_neighbours: number of neighbours to compare against. It should be between 10 and 50 (cf. op. cit., p. 2118).\n",
    "        (programmatically it's not necessary to input this, because it can be inferred from#rows/2 from the neighbour_matrix,\n",
    "        but given the fact that there is a clear recommendation as to how many neighbours should be used, \n",
    "        it is good to make this explicit in the input)\n",
    "\n",
    "    '''\n",
    "    \n",
    "    j = k_neighbours*2\n",
    "    \n",
    "    assert(j == neighbour_matrix_t1.shape[0] == neighbour_matrix_t2.shape[0])\n",
    "    \n",
    "    s_i_t1 = cosinesim(word_i, neighbour_matrix_t1.T)\n",
    "    s_i_t2 = cosinesim(word_i, neighbour_matrix_t2.T)\n",
    "    \n",
    "    assert(j == s_i_t1.shape[0] == s_i_t2.shape[0])\n",
    "    \n",
    "    return 1 - cosinesim(s_i_t1, s_i_t2)\n",
    "    "
   ]
  },
  {
   "cell_type": "code",
   "execution_count": 36,
   "metadata": {},
   "outputs": [
    {
     "data": {
      "text/plain": [
       "0.0"
      ]
     },
     "execution_count": 36,
     "metadata": {},
     "output_type": "execute_result"
    }
   ],
   "source": [
    "word = np.ones(4)\n",
    "mtx1 = np.ones((20,4)) * 3\n",
    "mtx2 = np.ones((20,4))/2\n",
    "local_vec_similarity(word_i=word, neighbour_matrix_t1=mtx1, neighbour_matrix_t2=mtx2, k_neighbours=10)"
   ]
  },
  {
   "cell_type": "code",
   "execution_count": 39,
   "metadata": {},
   "outputs": [
    {
     "data": {
      "text/plain": [
       "0.1351533051132151"
      ]
     },
     "execution_count": 39,
     "metadata": {},
     "output_type": "execute_result"
    }
   ],
   "source": [
    "mtx11 = np.random.rand(20,4)\n",
    "mtx22 = np.arange(20*4).reshape(20,-1)\n",
    "local_vec_similarity(word_i=word, neighbour_matrix_t1=mtx11, neighbour_matrix_t2=mtx22, k_neighbours=10)"
   ]
  },
  {
   "cell_type": "code",
   "execution_count": 35,
   "metadata": {},
   "outputs": [
    {
     "data": {
      "text/plain": [
       "0.060764273511923816"
      ]
     },
     "execution_count": 35,
     "metadata": {},
     "output_type": "execute_result"
    }
   ],
   "source": [
    "mtx3 = np.random.rand(20,4)\n",
    "local_vec_similarity(word_i=word, neighbour_matrix_t1=mtx11, neighbour_matrix_t2=mtx3, k_neighbours=10)"
   ]
  },
  {
   "cell_type": "code",
   "execution_count": 38,
   "metadata": {},
   "outputs": [
    {
     "data": {
      "text/plain": [
       "0.5085434341020432"
      ]
     },
     "execution_count": 38,
     "metadata": {},
     "output_type": "execute_result"
    }
   ],
   "source": [
    "mtx4 = np.flip(np.arange(20*4)).reshape(20,-1)\n",
    "local_vec_similarity(word_i=word, neighbour_matrix_t1=mtx22, neighbour_matrix_t2=mtx4, k_neighbours=10)"
   ]
  },
  {
   "cell_type": "code",
   "execution_count": null,
   "metadata": {},
   "outputs": [],
   "source": []
  }
 ],
 "metadata": {
  "kernelspec": {
   "display_name": "Python 3",
   "language": "python",
   "name": "python3"
  },
  "language_info": {
   "codemirror_mode": {
    "name": "ipython",
    "version": 3
   },
   "file_extension": ".py",
   "mimetype": "text/x-python",
   "name": "python",
   "nbconvert_exporter": "python",
   "pygments_lexer": "ipython3",
   "version": "3.8.6rc1"
  },
  "toc": {
   "base_numbering": 1,
   "nav_menu": {},
   "number_sections": true,
   "sideBar": true,
   "skip_h1_title": false,
   "title_cell": "Table of Contents",
   "title_sidebar": "Contents",
   "toc_cell": false,
   "toc_position": {},
   "toc_section_display": true,
   "toc_window_display": false
  },
  "varInspector": {
   "cols": {
    "lenName": 16,
    "lenType": 16,
    "lenVar": 40
   },
   "kernels_config": {
    "python": {
     "delete_cmd_postfix": "",
     "delete_cmd_prefix": "del ",
     "library": "var_list.py",
     "varRefreshCmd": "print(var_dic_list())"
    },
    "r": {
     "delete_cmd_postfix": ") ",
     "delete_cmd_prefix": "rm(",
     "library": "var_list.r",
     "varRefreshCmd": "cat(var_dic_list()) "
    }
   },
   "types_to_exclude": [
    "module",
    "function",
    "builtin_function_or_method",
    "instance",
    "_Feature"
   ],
   "window_display": false
  }
 },
 "nbformat": 4,
 "nbformat_minor": 4
}

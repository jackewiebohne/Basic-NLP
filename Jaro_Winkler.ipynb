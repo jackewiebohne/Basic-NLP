{
 "cells": [
  {
   "cell_type": "code",
   "execution_count": 1,
   "metadata": {},
   "outputs": [],
   "source": [
    "import numpy as np"
   ]
  },
  {
   "cell_type": "code",
   "execution_count": null,
   "metadata": {},
   "outputs": [],
   "source": [
    "def jaro (string1, string2):\n",
    "    '''AN APPLICATION OF THE FELLEGI-SUNTER MODEL OF RECORD LINKAGE TO THE 1990 U.S. DECENNIAL CENSUS\n",
    "    William E. Winkler and Yves Thibaudeau U.S. Bureau of the Census '''\n",
    "    '''or see also: https://www.geeksforgeeks.org/jaro-and-jaro-winkler-similarity/'''\n",
    "    if len(set(string1) & set(string2)) == 0:\n",
    "        return 0\n",
    "    \n",
    "    if string1 == string2:\n",
    "        return 1\n",
    "\n",
    "    # matches\n",
    "    cnt = (max(len(string1), len(string2))//2) - 1\n",
    "    assigned1 = np.array(['/']*len(string1))\n",
    "    assigned2 = np.array(['/']*len(string2))\n",
    "    \n",
    "    m = 0\n",
    "    for i in range(len(string1)):\n",
    "        for j in range(max(0,(i-cnt)), min(len(string2), i+cnt+1)): # to limit the number of operations. the loop starts at i-max_length and only goes to either i+max_length+1 (since range is exclusive) or (if the end of string2 is closer than max_length) to the end of string2\n",
    "            if string1[i] == string2[j] and assigned1[i] == '/' and assigned2[j] == '/': # the last two condition are so that there is no overwrite of already assigned values\n",
    "                assigned1[i] = string1[i]\n",
    "                assigned2[j] = string2[j]\n",
    "                m += 1\n",
    "    if m == 0:\n",
    "        return 0 \n",
    "    \n",
    "    assigned1 = np.delete(assigned1, np.where(assigned1 == '/')) # removing all the spaceholders that were needed to \n",
    "    assigned2 = np.delete(assigned2, np.where(assigned2 == '/'))\n",
    "    \n",
    "    # transpositions\n",
    "    t = 0\n",
    "    if all(assigned1 == assigned2):\n",
    "        t = 0\n",
    "    elif all(assigned1 == '/') and all(assigned2 == '/'):\n",
    "        t = 0\n",
    "    else:\n",
    "        for i in range(len(assigned1)):\n",
    "            if assigned1[i] != assigned2[i]:\n",
    "                t += 1\n",
    "        t = t/2\n",
    "        \n",
    "    return  ((m/len(string1) + m/len(string2) + (m-t)/m) / 3)"
   ]
  },
  {
   "cell_type": "code",
   "execution_count": 2,
   "metadata": {},
   "outputs": [],
   "source": [
    "def jaro_winkler(string1, string2, scaling=0.1):\n",
    "    jaro_dist = jaro(string1,string2)\n",
    "    print(jaro_dist)\n",
    "    \n",
    "    if jaro_dist == 1:\n",
    "        return 1\n",
    "    \n",
    "    if jaro_dist >= 0.6:\n",
    "        prefix = 0\n",
    "        for i in range(min(5, min(len(string1), len(string2)))):\n",
    "            if string1[i] == string2[i]:\n",
    "                prefix += 1\n",
    "            else:\n",
    "                break\n",
    "        return (jaro_dist + prefix * scaling * (1 - jaro_dist))\n",
    "    \n",
    "    else:\n",
    "        return jaro_dist"
   ]
  },
  {
   "cell_type": "code",
   "execution_count": null,
   "metadata": {},
   "outputs": [],
   "source": [
    "%%time\n",
    "## unit test: see p. 13 in above cited paper\n",
    "s9 = 'cunningham'\n",
    "s10='cunnigham'\n",
    "jaro_winkler(s9,s10) # should be .9833, is: 0.98333333.."
   ]
  }
 ],
 "metadata": {
  "kernelspec": {
   "display_name": "Python 3",
   "language": "python",
   "name": "python3"
  },
  "language_info": {
   "codemirror_mode": {
    "name": "ipython",
    "version": 3
   },
   "file_extension": ".py",
   "mimetype": "text/x-python",
   "name": "python",
   "nbconvert_exporter": "python",
   "pygments_lexer": "ipython3",
   "version": "3.8.6rc1"
  },
  "toc": {
   "base_numbering": 1,
   "nav_menu": {},
   "number_sections": true,
   "sideBar": true,
   "skip_h1_title": false,
   "title_cell": "Table of Contents",
   "title_sidebar": "Contents",
   "toc_cell": false,
   "toc_position": {},
   "toc_section_display": true,
   "toc_window_display": false
  },
  "varInspector": {
   "cols": {
    "lenName": 16,
    "lenType": 16,
    "lenVar": 40
   },
   "kernels_config": {
    "python": {
     "delete_cmd_postfix": "",
     "delete_cmd_prefix": "del ",
     "library": "var_list.py",
     "varRefreshCmd": "print(var_dic_list())"
    },
    "r": {
     "delete_cmd_postfix": ") ",
     "delete_cmd_prefix": "rm(",
     "library": "var_list.r",
     "varRefreshCmd": "cat(var_dic_list()) "
    }
   },
   "types_to_exclude": [
    "module",
    "function",
    "builtin_function_or_method",
    "instance",
    "_Feature"
   ],
   "window_display": false
  }
 },
 "nbformat": 4,
 "nbformat_minor": 4
}
